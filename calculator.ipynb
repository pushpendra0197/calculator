{
 "cells": [
  {
   "cell_type": "code",
   "execution_count": 152,
   "id": "61dea256-4927-4ba2-ba42-8a0cbb24449d",
   "metadata": {},
   "outputs": [
    {
     "name": "stdout",
     "output_type": "stream",
     "text": [
      "9.0\n"
     ]
    },
    {
     "name": "stderr",
     "output_type": "stream",
     "text": [
      "Exception in Tkinter callback\n",
      "Traceback (most recent call last):\n",
      "  File \"C:\\Users\\KINGNICKS-DELL\\anaconda3\\Lib\\tkinter\\__init__.py\", line 1948, in __call__\n",
      "    return self.func(*args)\n",
      "           ^^^^^^^^^^^^^^^^\n",
      "  File \"C:\\Users\\KINGNICKS-DELL\\AppData\\Local\\Temp\\ipykernel_7132\\2741087459.py\", line 33, in operation\n",
      "    num2=int(num2)\n",
      "         ^^^^^^^^^\n",
      "ValueError: invalid literal for int() with base 10: ''\n"
     ]
    },
    {
     "name": "stdout",
     "output_type": "stream",
     "text": [
      "9.0\n"
     ]
    }
   ],
   "source": [
    "from tkinter import *\n",
    "import tkinter\n",
    "#for resize window\n",
    "cal=tkinter.Tk()\n",
    "cal.geometry(\"250x250\")\n",
    "cal.maxsize(width=250,height=500)\n",
    "#to give the name\n",
    "cal.title(\"Calculator\")\n",
    "#to edit the background\n",
    "cal.configure(bg=\"red\")\n",
    "#label\n",
    "l=Label(cal,text=\"My Calculator\",fg=\"red\",font=('Arial',14)).place(x=70,y=1)\n",
    "l2=Label(cal,text=\"First Number\",fg=\"black\").place(x=1,y=40)\n",
    "l3=Label(cal,text=\"Second Number\",fg=\"black\").place(x=1,y=70)\n",
    "l4=Label(cal,text=\"Operator\",fg=\"black\").place(x=1,y=100)\n",
    "l5=Label(cal,text=\"Answer\",fg=\"black\").place(x=1,y=130)\n",
    "l6=Label(cal,text=\"Operator= +,-,*,/,square,squareroot\",fg=\"black\",font=('Arial',9)).place(x=40,y=220)\n",
    "#creatinh entry  box for enter the value\n",
    "E1=Entry(cal,bd=5)\n",
    "E1.place(x=90,y=35)\n",
    "E2=Entry(cal,bd=5)\n",
    "E2.place(x=100,y=65)\n",
    "E3=Entry(cal,bd=5)\n",
    "E3.place(x=90,y=100)\n",
    "E4=Entry(cal,bd=5)\n",
    "E4.place(x=90,y=130)\n",
    "\n",
    "def operation():\n",
    "    num1=Entry.get(E1)\n",
    "    num2=Entry.get(E2)\n",
    "    operator=Entry.get(E3)\n",
    "    num1=int(num1)\n",
    "    num2=int(num2)\n",
    "    if operator ==\"+\":\n",
    "        answer=num1+num2\n",
    "    elif operator ==\"-\":\n",
    "        answer=num1-num2\n",
    "    elif operator==\"*\":\n",
    "        answer=num1*num2\n",
    "    elif operator==\"/\":\n",
    "        answer=num1/num2\n",
    "    elif operator==\"/\":\n",
    "        answer=num1/num2\n",
    "    elif operator==\"square\":\n",
    "        answer=num1**2\n",
    "    elif operator==\"squareroot\":\n",
    "        answer=num1**(1/2)\n",
    "    Entry.insert(E4,0,answer)\n",
    "    print(answer)\n",
    "\n",
    "B=Button(cal, text =\"Submit\",command = operation,bg='yellow',bd=5).place(x=100,y=170)\n",
    "cal.mainloop()"
   ]
  },
  {
   "cell_type": "code",
   "execution_count": null,
   "id": "f46920a8-6ca0-411f-8682-047544a87450",
   "metadata": {},
   "outputs": [],
   "source": []
  },
  {
   "cell_type": "code",
   "execution_count": null,
   "id": "7cbf790f-850f-4527-82ad-b2cc0fe824c2",
   "metadata": {},
   "outputs": [],
   "source": []
  }
 ],
 "metadata": {
  "kernelspec": {
   "display_name": "Python 3 (ipykernel)",
   "language": "python",
   "name": "python3"
  },
  "language_info": {
   "codemirror_mode": {
    "name": "ipython",
    "version": 3
   },
   "file_extension": ".py",
   "mimetype": "text/x-python",
   "name": "python",
   "nbconvert_exporter": "python",
   "pygments_lexer": "ipython3",
   "version": "3.11.5"
  }
 },
 "nbformat": 4,
 "nbformat_minor": 5
}
